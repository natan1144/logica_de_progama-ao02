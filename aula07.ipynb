{
 "cells": [
  {
   "cell_type": "code",
   "execution_count": 1,
   "metadata": {},
   "outputs": [
    {
     "name": "stdout",
     "output_type": "stream",
     "text": [
      "[1, 2, 3, 4, 5, 6, 7]\n"
     ]
    }
   ],
   "source": [
    "\n",
    "lista = [1,2,3,4,5,6,7]\n",
    "print(lista)\n",
    "lista.remove(2)"
   ]
  },
  {
   "cell_type": "code",
   "execution_count": 3,
   "metadata": {},
   "outputs": [
    {
     "name": "stdout",
     "output_type": "stream",
     "text": [
      "gomes 25\n"
     ]
    }
   ],
   "source": [
    "nome = \"gomes\"\n",
    "idade = 25\n",
    "\n",
    "print(nome, idade)"
   ]
  },
  {
   "cell_type": "markdown",
   "metadata": {},
   "source": [
    " Aula07\n",
    "### Revisão e Markdown\n",
    "\n",
    "Italico ou italico\n",
    "*Negrito* ou _Negrito_\n",
    "*Negrito* e *Italico*\n",
    "\n",
    "1. Primeiro item na lista ordenada\n",
    "2. Segundo item na lista ordenada\n",
    "\n",
    "- Lista não ordenada\n",
    "    - Segundo na lista não ordenada\n",
    "\n",
    "[Texto do link](http://exemplo.com)\n",
    "![Texto Anunciado](http://exemplo.com/image.jpg)\n",
    "\n",
    "\n"
   ]
  },
  {
   "cell_type": "code",
   "execution_count": 10,
   "metadata": {},
   "outputs": [
    {
     "name": "stdout",
     "output_type": "stream",
     "text": [
      "1° natan\n",
      "2° oliveira\n",
      "3° henrique\n"
     ]
    }
   ],
   "source": [
    "nome = [\"natan\", \"oliveira\", \"henrique\"]\n",
    "\n",
    "for i, j in enumerate(nome):\n",
    "    print(f'{i + 1}° {j}')\n",
    "    \n",
    "\n"
   ]
  },
  {
   "cell_type": "code",
   "execution_count": 17,
   "metadata": {},
   "outputs": [
    {
     "name": "stdout",
     "output_type": "stream",
     "text": [
      "0\n",
      "2\n",
      "4\n",
      "6\n",
      "8\n"
     ]
    }
   ],
   "source": [
    "for i in range(0, 10, +2):\n",
    "    print(i)"
   ]
  },
  {
   "cell_type": "code",
   "execution_count": 18,
   "metadata": {},
   "outputs": [
    {
     "name": "stdout",
     "output_type": "stream",
     "text": [
      "1\n",
      "2\n",
      "3\n",
      "4\n",
      "5\n",
      "6\n",
      "7\n",
      "8\n",
      "9\n",
      "10\n",
      "11\n",
      "12\n",
      "13\n",
      "14\n",
      "15\n",
      "16\n",
      "17\n",
      "18\n",
      "19\n",
      "20\n",
      "21\n",
      "22\n",
      "23\n",
      "24\n",
      "25\n",
      "26\n",
      "27\n",
      "28\n",
      "29\n",
      "30\n",
      "31\n",
      "32\n",
      "33\n",
      "34\n",
      "35\n",
      "36\n",
      "37\n",
      "38\n",
      "39\n",
      "40\n",
      "41\n",
      "42\n",
      "43\n",
      "44\n",
      "45\n",
      "46\n",
      "47\n",
      "48\n",
      "49\n",
      "50\n",
      "51\n",
      "52\n",
      "53\n",
      "54\n",
      "55\n",
      "56\n",
      "57\n",
      "58\n",
      "59\n",
      "60\n",
      "61\n",
      "62\n",
      "63\n",
      "64\n",
      "65\n",
      "66\n",
      "67\n",
      "68\n",
      "69\n",
      "70\n",
      "71\n",
      "72\n",
      "73\n",
      "74\n",
      "75\n",
      "76\n",
      "77\n",
      "78\n",
      "79\n",
      "80\n",
      "81\n",
      "82\n",
      "83\n",
      "84\n",
      "85\n",
      "86\n",
      "87\n",
      "88\n",
      "89\n",
      "90\n"
     ]
    }
   ],
   "source": [
    "inicio = int(input(\"Digite o numero onde começa a contagem: ,\"))\n",
    "fim = int(input(\"Digite o numero onde termina a contage,: \"))\n",
    "\n",
    "for i in range(inicio, fim +1):\n",
    "    print(i)\n"
   ]
  },
  {
   "cell_type": "code",
   "execution_count": 24,
   "metadata": {},
   "outputs": [
    {
     "name": "stdout",
     "output_type": "stream",
     "text": [
      "1\n",
      "3\n",
      "5\n",
      "7\n",
      "9\n",
      "11\n",
      "13\n",
      "15\n",
      "17\n",
      "19\n"
     ]
    }
   ],
   "source": [
    "for i in range(0, 21):\n",
    "    if i % 2 != 0:\n",
    "        print(i)"
   ]
  },
  {
   "cell_type": "code",
   "execution_count": 25,
   "metadata": {},
   "outputs": [
    {
     "name": "stdout",
     "output_type": "stream",
     "text": [
      "9 X 1 = 9\n",
      "9 X 2 = 18\n",
      "9 X 3 = 27\n",
      "9 X 4 = 36\n",
      "9 X 5 = 45\n",
      "9 X 6 = 54\n",
      "9 X 7 = 63\n",
      "9 X 8 = 72\n",
      "9 X 9 = 81\n",
      "9 X 10 = 90\n"
     ]
    }
   ],
   "source": [
    "x = int(input(\"Digite o numero da tatuada: \"))\n",
    "x = int(x)\n",
    "\n",
    "for num in range(1, 11):\n",
    "    print(f\"{x} X {num} = {x * num}\")"
   ]
  },
  {
   "cell_type": "code",
   "execution_count": 30,
   "metadata": {},
   "outputs": [
    {
     "name": "stdout",
     "output_type": "stream",
     "text": [
      "NAO ECONTRADO\n",
      "NAO ECONTRADO\n",
      "NAO ECONTRADO\n",
      "NAO ECONTRADO\n",
      "['uva', 'pera', 'melancia', 'abacate', 'limao', 'manga']\n",
      "NAO ECONTRADO\n"
     ]
    }
   ],
   "source": [
    "lista = [\"uva\", \"pera\", \"melancia\", \"abacate\", \"limao\", \"manga\"]\n",
    "\n",
    "for i in lista:\n",
    "    if i == \"limao\":\n",
    "        print(lista)\n",
    "    else:\n",
    "        print(\"NAO ECONTRADO\")\n"
   ]
  },
  {
   "cell_type": "code",
   "execution_count": 32,
   "metadata": {},
   "outputs": [
    {
     "name": "stdout",
     "output_type": "stream",
     "text": [
      "Contando10...\n",
      "Contando9...\n",
      "Contando8...\n",
      "Contando7...\n",
      "Contando6...\n",
      "Contando5...\n",
      "Contando4...\n",
      "Contando3...\n",
      "Contando2...\n",
      "Contando1...\n",
      "Contando0...\n",
      "Fim da contagem\n"
     ]
    }
   ],
   "source": [
    "from time import sleep\n",
    "import os\n",
    "\n",
    "x = int(input(\"Digite o numero de segundos da contagem regressiva: \"))\n",
    "\n",
    "for i in range(x, -1, -1):\n",
    "    os.system(\"cls\")\n",
    "    print(f\"Contando{i}...\")\n",
    "    sleep(1)\n",
    "     \n",
    "\n",
    "print(\"Fim da contagem\")"
   ]
  }
 ],
 "metadata": {
  "kernelspec": {
   "display_name": "venv",
   "language": "python",
   "name": "python3"
  },
  "language_info": {
   "codemirror_mode": {
    "name": "ipython",
    "version": 3
   },
   "file_extension": ".py",
   "mimetype": "text/x-python",
   "name": "python",
   "nbconvert_exporter": "python",
   "pygments_lexer": "ipython3",
   "version": "3.12.5"
  }
 },
 "nbformat": 4,
 "nbformat_minor": 2
}

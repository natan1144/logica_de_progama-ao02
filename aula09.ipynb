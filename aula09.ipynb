{
 "cells": [
  {
   "cell_type": "code",
   "execution_count": 1,
   "metadata": {},
   "outputs": [
    {
     "name": "stdout",
     "output_type": "stream",
     "text": [
      "NATAN NATAN\n",
      "E um polidromo\n"
     ]
    }
   ],
   "source": [
    "nome = str(input(\"digite o seu nome: \")).strip().upper()\n",
    "\n",
    "palavras = nome.split()\n",
    "caracter = \"\".join(palavras)\n",
    "\n",
    "frase_invertida = \"\"\n",
    "\n",
    "for i in range(len(caracter) -1, -1, -1):\n",
    "    frase_invertida += caracter[i]\n",
    "\n",
    "print(caracter, frase_invertida)\n",
    "\n",
    "if frase_invertida == caracter:\n",
    "    print(\"E um polidromo\")\n",
    "else:\n",
    "    print(\"Nao e um polidromo\")\n",
    "\n"
   ]
  },
  {
   "cell_type": "code",
   "execution_count": 6,
   "metadata": {},
   "outputs": [
    {
     "name": "stdout",
     "output_type": "stream",
     "text": [
      "cpf: 039.135.691-70\n"
     ]
    }
   ],
   "source": [
    " \n",
    "\n",
    "\n",
    "cpf = input(\"Digite seu cpf:\")\n",
    "print(f\"cpf: {cpf[:3]}.{cpf[3:6]}.{cpf[6:9]}-{cpf[9:]}\")"
   ]
  },
  {
   "cell_type": "code",
   "execution_count": 12,
   "metadata": {},
   "outputs": [
    {
     "name": "stdout",
     "output_type": "stream",
     "text": [
      "{'Pao': 'R$ 1,99', 'Açucar': 'R$ 4,99', 'Cafe': '3,99', 'Macarrao': 'R$4,99', 'Carne': 'R$16,99'}\n",
      "3,99\n",
      "3,99 ['Açucar']\n"
     ]
    }
   ],
   "source": [
    "padaria = dict{\n",
    "    Pao = \"R$ 1,99\",\n",
    "    Açucar = \"R$ 4,99\",\n",
    "    Cafe = \"3,99\",\n",
    "    Macarrao = \"R$4,99\",\n",
    "    Carne = \"R$16,99\"\n",
    "}\n",
    "print(padaria)\n",
    "print(padaria[\"Cafe\"])\n",
    "print(padaria[\"Cafe\"],[\"Açucar\"])\n"
   ]
  },
  {
   "cell_type": "code",
   "execution_count": 20,
   "metadata": {},
   "outputs": [
    {
     "name": "stdout",
     "output_type": "stream",
     "text": [
      "<built-in method values of dict object at 0x0000025A9C3DFC00>\n",
      "16.99\n",
      "codigo : 101\n",
      "Nome: chocolate\n",
      "Preço: 5.0\n",
      "Estoque: 10\n",
      "\n",
      "codigo : 102\n",
      "Nome: pao\n",
      "Preço: 16.99\n",
      "Estoque: 100\n",
      "\n",
      "codigo : 103\n",
      "Nome: biscoito\n",
      "Preço: 2.99\n",
      "Estoque: 20\n",
      "\n",
      "dict_values([{'nome': 'chocolate', 'preco': 5.0, 'estoque': 10}, {'nome': 'pao', 'preco': 16.99, 'estoque': 100}, {'nome': 'biscoito', 'preco': 2.99, 'estoque': 20}])\n"
     ]
    }
   ],
   "source": [
    "#criando o dicionario de produtos\n",
    "produtos = {\n",
    "    101: {\"nome\" : \"chocolate\", \"preco\" : 5.00, \"estoque\" : 10},\n",
    "    102: {\"nome\" : \"pao\", \"preco\" : 16.99, \"estoque\" : 100},\n",
    "    103: {\"nome\" : \"biscoito\", \"preco\" : 2.99, \"estoque\" : 20},\n",
    "}\n",
    "\n",
    "print(produtos[101].values)\n",
    "print(produtos[102][\"preco\"])\n",
    "\n",
    "for i, info in produtos.items():\n",
    "    print(f\"codigo : {i}\")\n",
    "    print(f\"Nome: {info[\"nome\"]}\")\n",
    "    print(f\"Preço: {info[\"preco\"]}\")\n",
    "    print(f\"Estoque: {info[\"estoque\"]}\")\n",
    "    print()\n",
    "print(produtos.values())\n"
   ]
  }
 ],
 "metadata": {
  "kernelspec": {
   "display_name": "venv",
   "language": "python",
   "name": "python3"
  },
  "language_info": {
   "codemirror_mode": {
    "name": "ipython",
    "version": 3
   },
   "file_extension": ".py",
   "mimetype": "text/x-python",
   "name": "python",
   "nbconvert_exporter": "python",
   "pygments_lexer": "ipython3",
   "version": "3.12.6"
  }
 },
 "nbformat": 4,
 "nbformat_minor": 2
}
